{
 "cells": [
  {
   "cell_type": "code",
   "id": "initial_id",
   "metadata": {
    "collapsed": true,
    "ExecuteTime": {
     "end_time": "2025-07-02T06:42:06.403865Z",
     "start_time": "2025-07-02T06:42:06.396819Z"
    }
   },
   "source": [
    "from typing import Annotated\n",
    "\n",
    "from dotenv import load_dotenv\n",
    "load_dotenv()\n",
    "\n",
    "from typing_extensions import TypedDict\n",
    "from langchain.chat_models import  init_chat_model\n",
    "from langgraph.graph import START,END,StateGraph\n",
    "from langgraph.graph.message import add_messages"
   ],
   "outputs": [],
   "execution_count": 16
  },
  {
   "metadata": {
    "ExecuteTime": {
     "end_time": "2025-07-02T07:04:37.905113Z",
     "start_time": "2025-07-02T07:04:36.276454Z"
    }
   },
   "cell_type": "code",
   "source": [
    "llm = init_chat_model(\"google_genai:gemini-2.0-flash\")\n",
    "\n",
    "class State(TypedDict):\n",
    "    messages : Annotated[list , add_messages]\n",
    "\n",
    "def chatbot(state:State)->State:\n",
    "    return {\"messages\" : llm.invoke(state[\"messages\"])}\n",
    "\n",
    "builder = StateGraph(State)\n",
    "builder.add_node(\"chatbot\",chatbot)\n",
    "builder.add_edge(START , \"chatbot\")\n",
    "builder.add_edge(\"chatbot\",END)\n",
    "\n",
    "graph = builder.compile()\n",
    "message = {\"role\":\"user\",\"content\":\"What is the price of Relince power stock?\"}\n",
    "responses = graph.invoke({\"messages\":[message]})\n",
    "print(responses[\"messages\"][1].content)"
   ],
   "id": "9911dd30d1a5090c",
   "outputs": [
    {
     "name": "stdout",
     "output_type": "stream",
     "text": [
      "Unfortunately, I cannot give you the exact, real-time stock price of Reliance Power. Stock prices change very frequently throughout the day.\n",
      "\n",
      "To find the current stock price, I recommend checking these resources:\n",
      "\n",
      "*   **Google Finance:** Search \"Reliance Power stock price\" on Google.\n",
      "*   **Reliable Financial Websites:** Use reputable financial websites like the Bombay Stock Exchange (BSE) or the National Stock Exchange of India (NSE) websites, or well-known sources like Bloomberg, Reuters, or Yahoo Finance.\n"
     ]
    }
   ],
   "execution_count": 26
  },
  {
   "metadata": {
    "ExecuteTime": {
     "end_time": "2025-07-02T06:57:49.448748Z",
     "start_time": "2025-07-02T06:57:05.956869Z"
    }
   },
   "cell_type": "code",
   "source": [
    "# state = None\n",
    "# while True:\n",
    "#     in_message = input(\"You : \")\n",
    "#     if in_message == \"exit\":\n",
    "#         break\n",
    "#     if state is None:\n",
    "#         state : State = {\"messages\":[{\"role\":\"user\",\"content\":in_message}]}\n",
    "#     else:\n",
    "#         state[\"messages\"].append({\"role\":\"user\",\"content\":in_message})\n",
    "#\n",
    "#     state = graph.invoke(state)\n",
    "#     print(\"Bot : \",state[\"messages\"][-1].content)"
   ],
   "id": "c82256c28d3c3252",
   "outputs": [
    {
     "name": "stdout",
     "output_type": "stream",
     "text": [
      "Bot :  Neil Armstrong was the first person to step on the moon. He did so on July 20, 1969, as part of the Apollo 11 mission.\n",
      "Bot :  Neil Armstrong was from the United States of America.\n"
     ]
    }
   ],
   "execution_count": 24
  }
 ],
 "metadata": {
  "kernelspec": {
   "display_name": "Python 3",
   "language": "python",
   "name": "python3"
  },
  "language_info": {
   "codemirror_mode": {
    "name": "ipython",
    "version": 2
   },
   "file_extension": ".py",
   "mimetype": "text/x-python",
   "name": "python",
   "nbconvert_exporter": "python",
   "pygments_lexer": "ipython2",
   "version": "2.7.6"
  }
 },
 "nbformat": 4,
 "nbformat_minor": 5
}
