{
 "cells": [
  {
   "cell_type": "code",
   "id": "initial_id",
   "metadata": {
    "collapsed": true,
    "ExecuteTime": {
     "end_time": "2025-07-02T06:12:12.444868Z",
     "start_time": "2025-07-02T06:12:12.440006Z"
    }
   },
   "source": [
    "from typing import TypedDict, Literal\n",
    "\n",
    "class PortfolioState(TypedDict):\n",
    "    amount_usd:float\n",
    "    total_amount:float\n",
    "    currency: Literal[\"INR\",\"EUR\"]\n",
    "    total:float"
   ],
   "outputs": [],
   "execution_count": 9
  },
  {
   "metadata": {
    "ExecuteTime": {
     "end_time": "2025-07-02T06:12:12.475827Z",
     "start_time": "2025-07-02T06:12:12.471827Z"
    }
   },
   "cell_type": "code",
   "source": [
    "def calc_total(state:PortfolioState)->PortfolioState:\n",
    "        state[\"total_amount\"] = state[\"amount_usd\"] * 1.18\n",
    "        return state"
   ],
   "id": "f9541b134c3d32ff",
   "outputs": [],
   "execution_count": 10
  },
  {
   "metadata": {
    "ExecuteTime": {
     "end_time": "2025-07-02T06:12:12.490782Z",
     "start_time": "2025-07-02T06:12:12.485344Z"
    }
   },
   "cell_type": "code",
   "source": [
    "def convert_to_inr(state:PortfolioState)->PortfolioState:\n",
    "    state[\"total\"] = state[\"total_amount\"] * 77.45\n",
    "    return state\n",
    "\n",
    "def convert_to_eur(state:PortfolioState)->PortfolioState:\n",
    "    state[\"total\"] = state[\"total_amount\"] * 0.9\n",
    "    return state\n",
    "\n",
    "def get_curr(state:PortfolioState)->str:\n",
    "    return state[\"currency\"]"
   ],
   "id": "e6064d84b6d96ca9",
   "outputs": [],
   "execution_count": 11
  },
  {
   "metadata": {
    "ExecuteTime": {
     "end_time": "2025-07-02T06:12:12.514687Z",
     "start_time": "2025-07-02T06:12:12.508233Z"
    }
   },
   "cell_type": "code",
   "source": [
    "from langgraph.graph import StateGraph,START,END\n",
    "\n",
    "builder = StateGraph(PortfolioState)\n",
    "\n",
    "builder.add_node(\"calc_total\", calc_total)\n",
    "builder.add_node(\"convert_to_inr\", convert_to_inr)\n",
    "builder.add_node(\"convert_to_eur\", convert_to_eur)\n",
    "\n",
    "builder.add_edge(START, \"calc_total\")\n",
    "builder.add_conditional_edges(\"calc_total\", get_curr,  { \"INR\" : \"convert_to_inr\" , \"EUR\" : \"convert_to_eur\" })\n",
    "builder.add_edge([\"convert_to_inr\" , \"convert_to_eur\"], END)\n",
    "\n",
    "graph = builder.compile()"
   ],
   "id": "f3cf55e9bc6228cc",
   "outputs": [],
   "execution_count": 12
  },
  {
   "metadata": {
    "ExecuteTime": {
     "end_time": "2025-07-02T06:14:20.726245Z",
     "start_time": "2025-07-02T06:14:20.571723Z"
    }
   },
   "cell_type": "code",
   "source": [
    "from IPython.display import display , Image\n",
    "\n",
    "display(Image(graph.get_graph().draw_mermaid_png()))"
   ],
   "id": "39c9ba77b7cd06c9",
   "outputs": [
    {
     "data": {
      "image/png": "[encoded data removed]",
      "text/plain": [
       "<IPython.core.display.Image object>"
      ]
     },
     "metadata": {},
     "output_type": "display_data"
    }
   ],
   "execution_count": 19
  },
  {
   "metadata": {
    "ExecuteTime": {
     "end_time": "2025-07-02T06:14:42.385374Z",
     "start_time": "2025-07-02T06:14:42.372289Z"
    }
   },
   "cell_type": "code",
   "source": "graph.invoke({\"amount_usd\": 100 , \"currency\" : \"EUR\"})",
   "id": "c8be2e7d9c4a878a",
   "outputs": [
    {
     "data": {
      "text/plain": [
       "{'amount_usd': 100, 'total_amount': 118.0, 'currency': 'EUR', 'total': 106.2}"
      ]
     },
     "execution_count": 20,
     "metadata": {},
     "output_type": "execute_result"
    }
   ],
   "execution_count": 20
  }
 ],
 "metadata": {
  "kernelspec": {
   "display_name": "Python 3",
   "language": "python",
   "name": "python3"
  },
  "language_info": {
   "codemirror_mode": {
    "name": "ipython",
    "version": 2
   },
   "file_extension": ".py",
   "mimetype": "text/x-python",
   "name": "python",
   "nbconvert_exporter": "python",
   "pygments_lexer": "ipython2",
   "version": "2.7.6"
  }
 },
 "nbformat": 4,
 "nbformat_minor": 5
}
